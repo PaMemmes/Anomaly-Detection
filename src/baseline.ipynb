{
 "cells": [
  {
   "cell_type": "code",
   "execution_count": 1,
   "id": "7824cffc-1b97-446b-98b8-6da102c0ed94",
   "metadata": {},
   "outputs": [
    {
     "name": "stderr",
     "output_type": "stream",
     "text": [
      "2022-09-29 15:47:46.937519: I tensorflow/stream_executor/platform/default/dso_loader.cc:49] Successfully opened dynamic library libcudart.so.10.1\n"
     ]
    }
   ],
   "source": [
    "import tensorflow as tf\n",
    "from tensorflow import keras\n",
    "\n",
    "from tensorflow.keras.layers import Dense, Dropout\n",
    "from tensorflow.keras.layers import LeakyReLU\n",
    "from tensorflow.keras.layers import Input, BatchNormalization, LeakyReLU, Dense, Reshape, Flatten, Activation \n",
    "from tensorflow.keras.layers import Dropout, multiply, GaussianNoise, MaxPooling2D, concatenate\n",
    "from tensorflow.keras import initializers\n",
    "from tensorflow.keras.models import Model, Sequential\n",
    "from tensorflow.keras.optimizers import Adam, RMSprop\n",
    "from tensorflow.keras.callbacks import ModelCheckpoint\n",
    "from tensorflow.keras.callbacks import EarlyStopping\n"
   ]
  },
  {
   "cell_type": "code",
   "execution_count": 2,
   "id": "82bf07ae-e76b-43c0-a1f4-4a81fcf59519",
   "metadata": {},
   "outputs": [],
   "source": [
    "import collections\n",
    "import sys\n",
    "\n",
    "import numpy as np\n",
    "import matplotlib.pyplot as plt\n",
    "import pickle\n",
    "import pandas as pd\n",
    "\n",
    "from sklearn.preprocessing import LabelEncoder, MinMaxScaler\n",
    "from sklearn.metrics import roc_curve, auc,precision_recall_fscore_support, average_precision_score, precision_recall_curve, auc, confusion_matrix,accuracy_score, plot_confusion_matrix, PrecisionRecallDisplay \n",
    "from sklearn.model_selection import train_test_split\n",
    "\n",
    "import seaborn as sns\n",
    "\n",
    "from tqdm import tqdm\n",
    "\n",
    "import helper_functions\n",
    "pd.options.display.max_columns = None"
   ]
  },
  {
   "cell_type": "code",
   "execution_count": 3,
   "id": "5a36f970-e24a-4155-b9d2-d6da8980a515",
   "metadata": {},
   "outputs": [],
   "source": [
    "filename = '../data/preprocessed_data.pickle'\n",
    "figure_path = '../report/figures/baseline/'\n",
    "\n",
    "input_file = open(filename,'rb')\n",
    "preprocessed_data = pickle.load(input_file)\n",
    "input_file.close()"
   ]
  },
  {
   "cell_type": "code",
   "execution_count": 4,
   "id": "d1f07eb9-cdb6-4bbe-b447-8496f6e2d7d3",
   "metadata": {},
   "outputs": [],
   "source": [
    "le = preprocessed_data['le']\n",
    "x_train = preprocessed_data['x_train']\n",
    "y_train = preprocessed_data['y_train']\n",
    "x_test = preprocessed_data['x_test']\n",
    "y_test = preprocessed_data['y_test']"
   ]
  },
  {
   "cell_type": "code",
   "execution_count": 5,
   "id": "df0a5fda-ee86-454d-aed6-e76c7760c4af",
   "metadata": {},
   "outputs": [],
   "source": [
    "scaler = MinMaxScaler()\n",
    "\n",
    "x_train = scaler.fit_transform(x_train)\n",
    "x_test = scaler.transform(x_test)\n",
    "\n",
    "x_train = x_train.astype(np.float32)\n",
    "x_test = x_test.astype(np.float32)"
   ]
  },
  {
   "cell_type": "code",
   "execution_count": 6,
   "id": "7d0369c8-fdb4-4f9f-ac93-27932bbef5a5",
   "metadata": {},
   "outputs": [],
   "source": [
    "input_dim = x_train.shape[1]\n",
    "\n",
    "batch_size = 512\n",
    "max_epochs = 50"
   ]
  },
  {
   "cell_type": "code",
   "execution_count": 7,
   "id": "44348438-07e2-4af5-9e18-db0adfccd22f",
   "metadata": {},
   "outputs": [
    {
     "data": {
      "text/plain": [
       "array([[1.2207218e-03, 3.9295829e-04, 9.1009197e-06, ..., 0.0000000e+00,\n",
       "        0.0000000e+00, 0.0000000e+00],\n",
       "       [7.8899825e-01, 1.3333332e-07, 4.5504598e-06, ..., 0.0000000e+00,\n",
       "        0.0000000e+00, 0.0000000e+00],\n",
       "       [8.2742047e-01, 7.9999995e-07, 0.0000000e+00, ..., 0.0000000e+00,\n",
       "        0.0000000e+00, 0.0000000e+00],\n",
       "       ...,\n",
       "       [1.2207218e-03, 8.1188965e-01, 2.7302760e-05, ..., 0.0000000e+00,\n",
       "        8.1166667e-01, 8.1166667e-01],\n",
       "       [8.0872816e-04, 8.4505824e-04, 4.5504598e-06, ..., 0.0000000e+00,\n",
       "        0.0000000e+00, 0.0000000e+00],\n",
       "       [1.2207218e-03, 1.2213415e-03, 9.1009197e-06, ..., 0.0000000e+00,\n",
       "        0.0000000e+00, 0.0000000e+00]], dtype=float32)"
      ]
     },
     "execution_count": 7,
     "metadata": {},
     "output_type": "execute_result"
    }
   ],
   "source": [
    "x_train"
   ]
  },
  {
   "cell_type": "code",
   "execution_count": 8,
   "id": "4210a2f3-818f-4806-bf5b-ca6967b13be0",
   "metadata": {},
   "outputs": [],
   "source": [
    "def make_labels_binary(label_encoder, labels):\n",
    "    normal_data_index = np.where(label_encoder.classes_ == 'BENIGN')[0][0]\n",
    "    new_labels = labels.copy()\n",
    "    new_labels[labels != normal_data_index] = 1\n",
    "    new_labels[labels == normal_data_index] = 0\n",
    "    return new_labels"
   ]
  },
  {
   "cell_type": "code",
   "execution_count": 9,
   "id": "c486ffb5-95ac-4ae8-9883-11714ab82bd9",
   "metadata": {},
   "outputs": [],
   "source": [
    "y_train = make_labels_binary(le, y_train)\n",
    "y_test = make_labels_binary(le, y_test)"
   ]
  },
  {
   "cell_type": "code",
   "execution_count": 10,
   "id": "241f6103-7d22-4442-883d-c34b13615e92",
   "metadata": {},
   "outputs": [
    {
     "data": {
      "text/plain": [
       "417173"
      ]
     },
     "execution_count": 10,
     "metadata": {},
     "output_type": "execute_result"
    }
   ],
   "source": [
    "len(np.where(y_train==1)[0])"
   ]
  },
  {
   "cell_type": "code",
   "execution_count": 11,
   "id": "579a256e-9805-4573-a854-ee0704c41cd7",
   "metadata": {},
   "outputs": [
    {
     "data": {
      "text/plain": [
       "1703734"
      ]
     },
     "execution_count": 11,
     "metadata": {},
     "output_type": "execute_result"
    }
   ],
   "source": [
    "len(np.where(y_train==0)[0])"
   ]
  },
  {
   "cell_type": "code",
   "execution_count": 12,
   "id": "fee623fc-0699-4f06-bb33-7aa77c99380b",
   "metadata": {},
   "outputs": [
    {
     "data": {
      "text/plain": [
       "0.8033044353194176"
      ]
     },
     "execution_count": 12,
     "metadata": {},
     "output_type": "execute_result"
    }
   ],
   "source": [
    "len(np.where(y_train==0)[0]) / (len(np.where(y_train==1)[0]) + len(np.where(y_train==0)[0]))"
   ]
  },
  {
   "cell_type": "code",
   "execution_count": 13,
   "id": "8aaaaf4d-30cb-4e91-a077-f512540b29dd",
   "metadata": {},
   "outputs": [
    {
     "name": "stderr",
     "output_type": "stream",
     "text": [
      "2022-09-29 15:47:51.643456: I tensorflow/compiler/jit/xla_cpu_device.cc:41] Not creating XLA devices, tf_xla_enable_xla_devices not set\n",
      "2022-09-29 15:47:51.647121: I tensorflow/stream_executor/platform/default/dso_loader.cc:49] Successfully opened dynamic library libcuda.so.1\n",
      "2022-09-29 15:47:51.678896: I tensorflow/stream_executor/cuda/cuda_gpu_executor.cc:941] successful NUMA node read from SysFS had negative value (-1), but there must be at least one NUMA node, so returning NUMA node zero\n",
      "2022-09-29 15:47:51.679091: I tensorflow/core/common_runtime/gpu/gpu_device.cc:1720] Found device 0 with properties: \n",
      "pciBusID: 0000:25:00.0 name: NVIDIA GeForce GTX 1060 6GB computeCapability: 6.1\n",
      "coreClock: 1.7335GHz coreCount: 10 deviceMemorySize: 5.93GiB deviceMemoryBandwidth: 178.99GiB/s\n",
      "2022-09-29 15:47:51.679104: I tensorflow/stream_executor/platform/default/dso_loader.cc:49] Successfully opened dynamic library libcudart.so.10.1\n",
      "2022-09-29 15:47:51.694564: I tensorflow/stream_executor/platform/default/dso_loader.cc:49] Successfully opened dynamic library libcublas.so.10\n",
      "2022-09-29 15:47:51.694593: I tensorflow/stream_executor/platform/default/dso_loader.cc:49] Successfully opened dynamic library libcublasLt.so.10\n",
      "2022-09-29 15:47:51.703912: I tensorflow/stream_executor/platform/default/dso_loader.cc:49] Successfully opened dynamic library libcufft.so.10\n",
      "2022-09-29 15:47:51.706265: I tensorflow/stream_executor/platform/default/dso_loader.cc:49] Successfully opened dynamic library libcurand.so.10\n",
      "2022-09-29 15:47:51.722249: I tensorflow/stream_executor/platform/default/dso_loader.cc:49] Successfully opened dynamic library libcusolver.so.10\n",
      "2022-09-29 15:47:51.724620: I tensorflow/stream_executor/platform/default/dso_loader.cc:49] Successfully opened dynamic library libcusparse.so.10\n",
      "2022-09-29 15:47:51.752453: I tensorflow/stream_executor/platform/default/dso_loader.cc:49] Successfully opened dynamic library libcudnn.so.7\n",
      "2022-09-29 15:47:51.752591: I tensorflow/stream_executor/cuda/cuda_gpu_executor.cc:941] successful NUMA node read from SysFS had negative value (-1), but there must be at least one NUMA node, so returning NUMA node zero\n",
      "2022-09-29 15:47:51.752786: I tensorflow/stream_executor/cuda/cuda_gpu_executor.cc:941] successful NUMA node read from SysFS had negative value (-1), but there must be at least one NUMA node, so returning NUMA node zero\n",
      "2022-09-29 15:47:51.752898: I tensorflow/core/common_runtime/gpu/gpu_device.cc:1862] Adding visible gpu devices: 0\n",
      "2022-09-29 15:47:51.753678: I tensorflow/core/platform/cpu_feature_guard.cc:142] This TensorFlow binary is optimized with oneAPI Deep Neural Network Library (oneDNN) to use the following CPU instructions in performance-critical operations:  SSE4.1 SSE4.2 AVX AVX2 FMA\n",
      "To enable them in other operations, rebuild TensorFlow with the appropriate compiler flags.\n",
      "2022-09-29 15:47:51.754219: I tensorflow/compiler/jit/xla_gpu_device.cc:99] Not creating XLA devices, tf_xla_enable_xla_devices not set\n",
      "2022-09-29 15:47:51.754285: I tensorflow/stream_executor/cuda/cuda_gpu_executor.cc:941] successful NUMA node read from SysFS had negative value (-1), but there must be at least one NUMA node, so returning NUMA node zero\n",
      "2022-09-29 15:47:51.754405: I tensorflow/core/common_runtime/gpu/gpu_device.cc:1720] Found device 0 with properties: \n",
      "pciBusID: 0000:25:00.0 name: NVIDIA GeForce GTX 1060 6GB computeCapability: 6.1\n",
      "coreClock: 1.7335GHz coreCount: 10 deviceMemorySize: 5.93GiB deviceMemoryBandwidth: 178.99GiB/s\n",
      "2022-09-29 15:47:51.754416: I tensorflow/stream_executor/platform/default/dso_loader.cc:49] Successfully opened dynamic library libcudart.so.10.1\n",
      "2022-09-29 15:47:51.754430: I tensorflow/stream_executor/platform/default/dso_loader.cc:49] Successfully opened dynamic library libcublas.so.10\n",
      "2022-09-29 15:47:51.754438: I tensorflow/stream_executor/platform/default/dso_loader.cc:49] Successfully opened dynamic library libcublasLt.so.10\n",
      "2022-09-29 15:47:51.754446: I tensorflow/stream_executor/platform/default/dso_loader.cc:49] Successfully opened dynamic library libcufft.so.10\n",
      "2022-09-29 15:47:51.754453: I tensorflow/stream_executor/platform/default/dso_loader.cc:49] Successfully opened dynamic library libcurand.so.10\n",
      "2022-09-29 15:47:51.754462: I tensorflow/stream_executor/platform/default/dso_loader.cc:49] Successfully opened dynamic library libcusolver.so.10\n",
      "2022-09-29 15:47:51.754469: I tensorflow/stream_executor/platform/default/dso_loader.cc:49] Successfully opened dynamic library libcusparse.so.10\n",
      "2022-09-29 15:47:51.754477: I tensorflow/stream_executor/platform/default/dso_loader.cc:49] Successfully opened dynamic library libcudnn.so.7\n",
      "2022-09-29 15:47:51.754515: I tensorflow/stream_executor/cuda/cuda_gpu_executor.cc:941] successful NUMA node read from SysFS had negative value (-1), but there must be at least one NUMA node, so returning NUMA node zero\n",
      "2022-09-29 15:47:51.754656: I tensorflow/stream_executor/cuda/cuda_gpu_executor.cc:941] successful NUMA node read from SysFS had negative value (-1), but there must be at least one NUMA node, so returning NUMA node zero\n",
      "2022-09-29 15:47:51.754760: I tensorflow/core/common_runtime/gpu/gpu_device.cc:1862] Adding visible gpu devices: 0\n",
      "2022-09-29 15:47:51.754962: I tensorflow/stream_executor/platform/default/dso_loader.cc:49] Successfully opened dynamic library libcudart.so.10.1\n",
      "2022-09-29 15:47:52.397768: I tensorflow/core/common_runtime/gpu/gpu_device.cc:1261] Device interconnect StreamExecutor with strength 1 edge matrix:\n",
      "2022-09-29 15:47:52.397796: I tensorflow/core/common_runtime/gpu/gpu_device.cc:1267]      0 \n",
      "2022-09-29 15:47:52.397801: I tensorflow/core/common_runtime/gpu/gpu_device.cc:1280] 0:   N \n",
      "2022-09-29 15:47:52.398244: I tensorflow/stream_executor/cuda/cuda_gpu_executor.cc:941] successful NUMA node read from SysFS had negative value (-1), but there must be at least one NUMA node, so returning NUMA node zero\n",
      "2022-09-29 15:47:52.398422: I tensorflow/stream_executor/cuda/cuda_gpu_executor.cc:941] successful NUMA node read from SysFS had negative value (-1), but there must be at least one NUMA node, so returning NUMA node zero\n",
      "2022-09-29 15:47:52.398570: I tensorflow/stream_executor/cuda/cuda_gpu_executor.cc:941] successful NUMA node read from SysFS had negative value (-1), but there must be at least one NUMA node, so returning NUMA node zero\n",
      "2022-09-29 15:47:52.398695: I tensorflow/core/common_runtime/gpu/gpu_device.cc:1406] Created TensorFlow device (/job:localhost/replica:0/task:0/device:GPU:0 with 4141 MB memory) -> physical GPU (device: 0, name: NVIDIA GeForce GTX 1060 6GB, pci bus id: 0000:25:00.0, compute capability: 6.1)\n"
     ]
    },
    {
     "name": "stdout",
     "output_type": "stream",
     "text": [
      "Model: \"sequential\"\n",
      "_________________________________________________________________\n",
      "Layer (type)                 Output Shape              Param #   \n",
      "=================================================================\n",
      "dense (Dense)                (None, 64)                5056      \n",
      "_________________________________________________________________\n",
      "dropout (Dropout)            (None, 64)                0         \n",
      "_________________________________________________________________\n",
      "dense_1 (Dense)              (None, 128)               8320      \n",
      "_________________________________________________________________\n",
      "dropout_1 (Dropout)          (None, 128)               0         \n",
      "_________________________________________________________________\n",
      "dense_2 (Dense)              (None, 256)               33024     \n",
      "_________________________________________________________________\n",
      "dropout_2 (Dropout)          (None, 256)               0         \n",
      "_________________________________________________________________\n",
      "dense_3 (Dense)              (None, 1)                 257       \n",
      "=================================================================\n",
      "Total params: 46,657\n",
      "Trainable params: 46,657\n",
      "Non-trainable params: 0\n",
      "_________________________________________________________________\n"
     ]
    },
    {
     "name": "stderr",
     "output_type": "stream",
     "text": [
      "2022-09-29 15:47:52.651272: W tensorflow/core/framework/cpu_allocator_impl.cc:80] Allocation of 595550592 exceeds 10% of free system memory.\n",
      "2022-09-29 15:47:52.867621: I tensorflow/compiler/mlir/mlir_graph_optimization_pass.cc:116] None of the MLIR optimization passes are enabled (registered 2)\n",
      "2022-09-29 15:47:52.883054: I tensorflow/core/platform/profile_utils/cpu_utils.cc:112] CPU Frequency: 3601430000 Hz\n"
     ]
    },
    {
     "name": "stdout",
     "output_type": "stream",
     "text": [
      "Epoch 1/50\n"
     ]
    },
    {
     "name": "stderr",
     "output_type": "stream",
     "text": [
      "2022-09-29 15:47:53.187911: I tensorflow/stream_executor/platform/default/dso_loader.cc:49] Successfully opened dynamic library libcublas.so.10\n"
     ]
    },
    {
     "name": "stdout",
     "output_type": "stream",
     "text": [
      "3729/3729 [==============================] - 8s 2ms/step - loss: 0.0267 - accuracy: 0.8396 - val_loss: 0.1407 - val_accuracy: 0.9481\n",
      "Epoch 2/50\n",
      "3729/3729 [==============================] - 7s 2ms/step - loss: 0.0107 - accuracy: 0.9536 - val_loss: 0.0926 - val_accuracy: 0.9682\n",
      "Epoch 3/50\n",
      "3729/3729 [==============================] - 7s 2ms/step - loss: 0.0096 - accuracy: 0.9583 - val_loss: 0.1167 - val_accuracy: 0.9614\n",
      "Epoch 4/50\n",
      "3729/3729 [==============================] - 7s 2ms/step - loss: 0.0090 - accuracy: 0.9613 - val_loss: 0.0906 - val_accuracy: 0.9673\n",
      "Epoch 5/50\n",
      "3729/3729 [==============================] - 7s 2ms/step - loss: 0.0086 - accuracy: 0.9629 - val_loss: 0.0777 - val_accuracy: 0.9699\n",
      "Epoch 6/50\n",
      "3729/3729 [==============================] - 7s 2ms/step - loss: 0.0082 - accuracy: 0.9642 - val_loss: 0.0855 - val_accuracy: 0.9683\n",
      "Epoch 7/50\n",
      "3729/3729 [==============================] - 7s 2ms/step - loss: 0.0080 - accuracy: 0.9650 - val_loss: 0.1011 - val_accuracy: 0.9632\n",
      "Epoch 8/50\n",
      "3729/3729 [==============================] - 7s 2ms/step - loss: 0.0079 - accuracy: 0.9650 - val_loss: 0.0807 - val_accuracy: 0.9744\n",
      "Epoch 9/50\n",
      "3729/3729 [==============================] - 7s 2ms/step - loss: 0.0077 - accuracy: 0.9658 - val_loss: 0.0856 - val_accuracy: 0.9700\n",
      "Epoch 10/50\n",
      "3729/3729 [==============================] - 7s 2ms/step - loss: 0.0075 - accuracy: 0.9669 - val_loss: 0.0799 - val_accuracy: 0.9741\n",
      "Epoch 11/50\n",
      "3729/3729 [==============================] - 7s 2ms/step - loss: 0.0074 - accuracy: 0.9674 - val_loss: 0.0779 - val_accuracy: 0.9750\n",
      "Epoch 12/50\n",
      "3729/3729 [==============================] - 7s 2ms/step - loss: 0.0074 - accuracy: 0.9678 - val_loss: 0.0820 - val_accuracy: 0.9743\n",
      "Epoch 13/50\n",
      "3729/3729 [==============================] - 7s 2ms/step - loss: 0.0073 - accuracy: 0.9684 - val_loss: 0.0831 - val_accuracy: 0.9767\n",
      "Epoch 14/50\n",
      "3729/3729 [==============================] - 7s 2ms/step - loss: 0.0072 - accuracy: 0.9694 - val_loss: 0.0783 - val_accuracy: 0.9770\n",
      "Epoch 15/50\n",
      "3729/3729 [==============================] - 7s 2ms/step - loss: 0.0070 - accuracy: 0.9700 - val_loss: 0.0857 - val_accuracy: 0.9754\n",
      "Epoch 16/50\n",
      "3729/3729 [==============================] - 7s 2ms/step - loss: 0.0070 - accuracy: 0.9704 - val_loss: 0.0870 - val_accuracy: 0.9713\n",
      "Epoch 17/50\n",
      "3729/3729 [==============================] - 7s 2ms/step - loss: 0.0069 - accuracy: 0.9703 - val_loss: 0.0834 - val_accuracy: 0.9720\n",
      "Epoch 18/50\n",
      "3729/3729 [==============================] - 7s 2ms/step - loss: 0.0069 - accuracy: 0.9701 - val_loss: 0.0764 - val_accuracy: 0.9753\n",
      "Epoch 19/50\n",
      "3729/3729 [==============================] - 7s 2ms/step - loss: 0.0069 - accuracy: 0.9708 - val_loss: 0.0781 - val_accuracy: 0.9748\n",
      "Epoch 20/50\n",
      "3729/3729 [==============================] - 7s 2ms/step - loss: 0.0068 - accuracy: 0.9712 - val_loss: 0.0799 - val_accuracy: 0.9744\n",
      "Epoch 21/50\n",
      "3729/3729 [==============================] - 7s 2ms/step - loss: 0.0068 - accuracy: 0.9708 - val_loss: 0.0744 - val_accuracy: 0.9764\n",
      "Epoch 22/50\n",
      "3729/3729 [==============================] - 7s 2ms/step - loss: 0.0068 - accuracy: 0.9711 - val_loss: 0.0775 - val_accuracy: 0.9751\n",
      "Epoch 23/50\n",
      "3729/3729 [==============================] - 7s 2ms/step - loss: 0.0067 - accuracy: 0.9713 - val_loss: 0.0739 - val_accuracy: 0.9774\n",
      "Epoch 24/50\n",
      "3729/3729 [==============================] - 7s 2ms/step - loss: 0.0066 - accuracy: 0.9715 - val_loss: 0.0723 - val_accuracy: 0.9775\n",
      "Epoch 25/50\n",
      "3729/3729 [==============================] - 7s 2ms/step - loss: 0.0066 - accuracy: 0.9721 - val_loss: 0.0734 - val_accuracy: 0.9755\n",
      "Epoch 26/50\n",
      "3729/3729 [==============================] - 7s 2ms/step - loss: 0.0066 - accuracy: 0.9722 - val_loss: 0.0723 - val_accuracy: 0.9790\n",
      "Epoch 27/50\n",
      "3729/3729 [==============================] - 7s 2ms/step - loss: 0.0066 - accuracy: 0.9720 - val_loss: 0.0788 - val_accuracy: 0.9747\n",
      "Epoch 28/50\n",
      "3729/3729 [==============================] - 7s 2ms/step - loss: 0.0065 - accuracy: 0.9724 - val_loss: 0.0697 - val_accuracy: 0.9772\n",
      "Epoch 29/50\n",
      "3729/3729 [==============================] - 7s 2ms/step - loss: 0.0065 - accuracy: 0.9724 - val_loss: 0.0665 - val_accuracy: 0.9781\n",
      "Epoch 30/50\n",
      "3729/3729 [==============================] - 8s 2ms/step - loss: 0.0065 - accuracy: 0.9723 - val_loss: 0.0732 - val_accuracy: 0.9766\n",
      "Epoch 31/50\n",
      "3729/3729 [==============================] - 7s 2ms/step - loss: 0.0065 - accuracy: 0.9719 - val_loss: 0.0725 - val_accuracy: 0.9770\n",
      "Epoch 32/50\n",
      "3729/3729 [==============================] - 7s 2ms/step - loss: 0.0064 - accuracy: 0.9731 - val_loss: 0.0670 - val_accuracy: 0.9784\n",
      "Epoch 33/50\n",
      "3729/3729 [==============================] - 7s 2ms/step - loss: 0.0064 - accuracy: 0.9729 - val_loss: 0.0725 - val_accuracy: 0.9747\n",
      "Epoch 34/50\n",
      "3729/3729 [==============================] - 7s 2ms/step - loss: 0.0064 - accuracy: 0.9728 - val_loss: 0.0715 - val_accuracy: 0.9772\n",
      "Epoch 35/50\n",
      "3729/3729 [==============================] - 7s 2ms/step - loss: 0.0064 - accuracy: 0.9727 - val_loss: 0.0754 - val_accuracy: 0.9762\n",
      "Epoch 36/50\n",
      "3729/3729 [==============================] - 7s 2ms/step - loss: 0.0064 - accuracy: 0.9729 - val_loss: 0.0624 - val_accuracy: 0.9788\n"
     ]
    }
   ],
   "source": [
    "model = Sequential()\n",
    "model.add(Dense(64, input_shape=(x_train.shape[1],), activation='relu', kernel_initializer=initializers.glorot_normal(seed=42)))\n",
    "model.add(Dropout(0.2))\n",
    "model.add(Dense(128, activation='relu', kernel_initializer=initializers.glorot_normal(seed=42)))\n",
    "model.add(Dropout(0.2))\n",
    "model.add(Dense(256, activation='relu', kernel_initializer=initializers.glorot_normal(seed=42)))\n",
    "model.add(Dropout(0.2))\n",
    "model.add(Dense(1, activation='sigmoid', kernel_initializer=initializers.glorot_normal(seed=42)))\n",
    "model.summary()\n",
    "\n",
    "weights = class_weight={0: 0.05, 1: 0.95}\n",
    "model.compile(optimizer='Adam', \n",
    "              loss='binary_crossentropy',\n",
    "              metrics=['accuracy'])\n",
    "\n",
    "es = EarlyStopping(monitor='val_accuracy', \n",
    "                                   mode='max',\n",
    "                                   patience=10,\n",
    "                                   restore_best_weights=True)\n",
    "\n",
    "history = model.fit(x_train,\n",
    "                    y_train,\n",
    "                    callbacks=[es],\n",
    "                    epochs=max_epochs,\n",
    "                    batch_size=batch_size,\n",
    "                    validation_split=0.1,\n",
    "                    shuffle=False,\n",
    "                    class_weight=weights,\n",
    "                    verbose=1)"
   ]
  },
  {
   "cell_type": "code",
   "execution_count": 14,
   "id": "6c4a8afb-fb5f-49ae-9217-d843b62143c9",
   "metadata": {},
   "outputs": [
    {
     "data": {
      "image/png": "[encoded data removed]",
      "text/plain": [
       "<Figure size 432x288 with 1 Axes>"
      ]
     },
     "metadata": {
      "needs_background": "light"
     },
     "output_type": "display_data"
    }
   ],
   "source": [
    "helper_functions.plot_loss(history, figure_path + 'loss_baseline.png', 'FFN')"
   ]
  },
  {
   "cell_type": "code",
   "execution_count": 15,
   "id": "e1b146c5-f7be-40cb-8b05-2965bbe2a9e9",
   "metadata": {},
   "outputs": [
    {
     "data": {
      "text/plain": [
       "[0.9089650511741638,\n",
       " 0.9555153846740723,\n",
       " 0.9592490792274475,\n",
       " 0.9618176817893982,\n",
       " 0.963333785533905,\n",
       " 0.9640646576881409,\n",
       " 0.9652119278907776,\n",
       " 0.9655922651290894,\n",
       " 0.9659574031829834,\n",
       " 0.9667348861694336,\n",
       " 0.9675804376602173,\n",
       " 0.9678449630737305,\n",
       " 0.9686512351036072,\n",
       " 0.9693852066993713,\n",
       " 0.9699064493179321,\n",
       " 0.9704062342643738,\n",
       " 0.9705089330673218,\n",
       " 0.9700751900672913,\n",
       " 0.9711287021636963,\n",
       " 0.9710506200790405,\n",
       " 0.9712214469909668,\n",
       " 0.971246600151062,\n",
       " 0.9716416001319885,\n",
       " 0.9716944694519043,\n",
       " 0.9720627665519714,\n",
       " 0.9719899892807007,\n",
       " 0.9722011089324951,\n",
       " 0.9722393155097961,\n",
       " 0.9726113080978394,\n",
       " 0.9720612168312073,\n",
       " 0.9724137783050537,\n",
       " 0.9729926586151123,\n",
       " 0.9724572896957397,\n",
       " 0.9728014469146729,\n",
       " 0.972764253616333,\n",
       " 0.9726448059082031]"
      ]
     },
     "execution_count": 15,
     "metadata": {},
     "output_type": "execute_result"
    }
   ],
   "source": [
    "history.history['accuracy']"
   ]
  },
  {
   "cell_type": "code",
   "execution_count": 16,
   "id": "dd72d999-a2f6-475f-a2c0-06b5120b3a39",
   "metadata": {},
   "outputs": [
    {
     "data": {
      "image/png": "[encoded data removed]",
      "text/plain": [
       "<Figure size 432x288 with 1 Axes>"
      ]
     },
     "metadata": {
      "needs_background": "light"
     },
     "output_type": "display_data"
    }
   ],
   "source": [
    "helper_functions.plot_accuracy(history, figure_path + 'accuracy_baseline.png', 'FFN')"
   ]
  },
  {
   "cell_type": "code",
   "execution_count": 17,
   "id": "3b40f21b-f5e4-40d6-8412-7455105e4b76",
   "metadata": {},
   "outputs": [
    {
     "data": {
      "image/png": "[encoded data removed]",
      "text/plain": [
       "<Figure size 720x720 with 1 Axes>"
      ]
     },
     "metadata": {
      "needs_background": "light"
     },
     "output_type": "display_data"
    }
   ],
   "source": [
    "preds_test = model.predict(x_test)\n",
    "fpr, tpr, thresholds = roc_curve(y_test, preds_test)\n",
    "roc_auc = auc(fpr, tpr)\n",
    "\n",
    "helper_functions.plot_roc(tpr, fpr, roc_auc, figure_path + 'roc_baseline.png', 'FFN')"
   ]
  },
  {
   "cell_type": "code",
   "execution_count": 18,
   "id": "b4c64107-7ad5-41e0-879d-96c3a1650c3d",
   "metadata": {},
   "outputs": [
    {
     "data": {
      "text/plain": [
       "<function sklearn.metrics._ranking.precision_recall_curve(y_true, probas_pred, *, pos_label=None, sample_weight=None)>"
      ]
     },
     "execution_count": 18,
     "metadata": {},
     "output_type": "execute_result"
    }
   ],
   "source": [
    "precision_recall_curve"
   ]
  },
  {
   "cell_type": "code",
   "execution_count": 19,
   "id": "f9e41249-aa28-4c03-a5fd-6f4554ebc73a",
   "metadata": {},
   "outputs": [
    {
     "name": "stdout",
     "output_type": "stream",
     "text": [
      "0.6039149\n"
     ]
    }
   ],
   "source": [
    "threshold_idx = np.argmax(tpr - fpr)\n",
    "threshold = thresholds[threshold_idx]\n",
    "print(threshold)"
   ]
  },
  {
   "cell_type": "code",
   "execution_count": 20,
   "id": "c95a0cf2-d27f-4cd0-80e8-d10174c4e12c",
   "metadata": {},
   "outputs": [
    {
     "name": "stdout",
     "output_type": "stream",
     "text": [
      "Accuracy Score : 0.9803046526792547\n",
      "Precision : 0.9133113267840789\n",
      "Recall : 0.994497176843661\n",
      "F1 : 0.9521768399071288\n"
     ]
    }
   ],
   "source": [
    "pred_labels = (preds_test > threshold).astype(int)\n",
    "\n",
    "results = confusion_matrix(y_test, pred_labels)\n",
    "\n",
    "precision, recall, f1, _ = precision_recall_fscore_support(y_test, pred_labels, average='binary')\n",
    "print('Accuracy Score :', accuracy_score(y_test, pred_labels))\n",
    "print('Precision :', precision)\n",
    "print('Recall :', recall)\n",
    "print('F1 :', f1)"
   ]
  },
  {
   "cell_type": "markdown",
   "id": "528b1fe2-9263-4518-b355-d47548d619d5",
   "metadata": {},
   "source": [
    "Accuracy Score : 0.8876188347721046\n",
    "Precision : 0.6500718646240754\n",
    "Recall : 0.9312972170207271\n",
    "F1 : 0.7656784559847108"
   ]
  },
  {
   "cell_type": "code",
   "execution_count": 21,
   "id": "c5500dca-a3a2-4082-976d-2da4a34aabdd",
   "metadata": {},
   "outputs": [
    {
     "data": {
      "image/png": "[encoded data removed]",
      "text/plain": [
       "<Figure size 432x288 with 2 Axes>"
      ]
     },
     "metadata": {
      "needs_background": "light"
     },
     "output_type": "display_data"
    }
   ],
   "source": [
    "helper_functions.plot_confusion_matrix(results, figure_path + 'confusion_baseline.png', 'FFN')"
   ]
  },
  {
   "cell_type": "code",
   "execution_count": null,
   "id": "df65a317-2d1a-4504-99a6-376ec25bf11f",
   "metadata": {},
   "outputs": [],
   "source": []
  }
 ],
 "metadata": {
  "kernelspec": {
   "display_name": "AML2",
   "language": "python",
   "name": "aml2"
  },
  "language_info": {
   "codemirror_mode": {
    "name": "ipython",
    "version": 3
   },
   "file_extension": ".py",
   "mimetype": "text/x-python",
   "name": "python",
   "nbconvert_exporter": "python",
   "pygments_lexer": "ipython3",
   "version": "3.9.12"
  }
 },
 "nbformat": 4,
 "nbformat_minor": 5
}
