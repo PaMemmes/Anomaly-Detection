{
 "cells": [
  {
   "cell_type": "code",
   "execution_count": 1,
   "id": "0f1a2cd5-07ba-4196-80be-a96dce92e530",
   "metadata": {},
   "outputs": [
    {
     "name": "stderr",
     "output_type": "stream",
     "text": [
      "2022-09-30 15:11:35.728186: I tensorflow/stream_executor/platform/default/dso_loader.cc:49] Successfully opened dynamic library libcudart.so.10.1\n"
     ]
    }
   ],
   "source": [
    "import tensorflow as tf\n",
    "from tensorflow import keras\n",
    "# from tensorflow.keras import layer\n",
    "\n",
    "from tensorflow.keras import initializers\n",
    "from tensorflow.keras.models import Model, Sequential\n",
    "from tensorflow.keras import optimizers\n",
    "\n",
    "from tensorflow.keras.optimizers import Adam, RMSprop\n",
    "from tensorflow.keras.callbacks import ModelCheckpoint\n",
    "from tensorflow.keras.layers import Dense, Dropout\n",
    "from tensorflow.keras.layers import LeakyReLU\n",
    "from tensorflow.keras.layers import Input, BatchNormalization, LeakyReLU, Dense, Reshape, Flatten, Activation \n",
    "from tensorflow.keras.layers import Dropout, multiply, GaussianNoise, MaxPooling2D, concatenate"
   ]
  },
  {
   "cell_type": "code",
   "execution_count": 2,
   "id": "fd09d0d7-dd6e-4f12-83d4-aa48d31c86ca",
   "metadata": {},
   "outputs": [],
   "source": [
    "import collections\n",
    "import sys, os, datetime\n",
    "\n",
    "import numpy as np\n",
    "import matplotlib.pyplot as plt\n",
    "import pickle\n",
    "import pandas as pd\n",
    "\n",
    "from sklearn.metrics import roc_curve, auc,precision_recall_fscore_support, average_precision_score\n",
    "from sklearn.preprocessing import LabelEncoder, MinMaxScaler\n",
    "from sklearn.model_selection import train_test_split\n",
    "from sklearn.metrics import precision_recall_curve, auc, confusion_matrix,accuracy_score, plot_confusion_matrix\n",
    "\n",
    "import seaborn as sns\n",
    "import tensorboard\n",
    "\n",
    "from tqdm import tqdm\n",
    "\n",
    "import helper_functions\n",
    "\n",
    "pd.options.display.max_columns = None"
   ]
  },
  {
   "cell_type": "code",
   "execution_count": 3,
   "id": "fcb87aff-c084-413b-83c7-9151a5653b57",
   "metadata": {},
   "outputs": [],
   "source": [
    "filename = '../data/preprocessed_data.pickle'\n",
    "figure_path = '../report/best/autoencoder/'\n",
    "\n",
    "input_file = open(filename,'rb')\n",
    "preprocessed_data = pickle.load(input_file)\n",
    "input_file.close()"
   ]
  },
  {
   "cell_type": "code",
   "execution_count": 4,
   "id": "434fbeb1-1d71-4ab3-a492-ac98a02e6402",
   "metadata": {},
   "outputs": [],
   "source": [
    "le = preprocessed_data['le']\n",
    "x_train = preprocessed_data['x_train']\n",
    "y_train = preprocessed_data['y_train']\n",
    "x_test = preprocessed_data['x_test']\n",
    "y_test = preprocessed_data['y_test']"
   ]
  },
  {
   "cell_type": "code",
   "execution_count": 5,
   "id": "16c33a52-8c51-4ed6-8327-90bdbf0050b9",
   "metadata": {},
   "outputs": [],
   "source": [
    "scaler = MinMaxScaler()\n",
    "\n",
    "x_train = scaler.fit_transform(x_train)\n",
    "x_test = scaler.transform(x_test)\n",
    "\n",
    "x_train = x_train.astype(np.float32)\n",
    "x_test = x_test.astype(np.float32)"
   ]
  },
  {
   "cell_type": "code",
   "execution_count": 6,
   "id": "e5124a77-6539-4282-9e35-efd778e5c541",
   "metadata": {},
   "outputs": [],
   "source": [
    "def convert_label_to_binary(label_encoder, labels):\n",
    "    normal_idx = np.where(label_encoder.classes_ == 'BENIGN')[0]\n",
    "    my_labels = labels.copy()\n",
    "    my_labels[my_labels != normal_idx] = 1 \n",
    "    my_labels[my_labels == normal_idx] = 0\n",
    "    return my_labels"
   ]
  },
  {
   "cell_type": "code",
   "execution_count": 7,
   "id": "67c6900d-bd48-4fe5-88b3-f4e5b6ae7a3a",
   "metadata": {},
   "outputs": [],
   "source": [
    "y_train = convert_label_to_binary(le, y_train)\n",
    "y_test = convert_label_to_binary(le, y_test)\n",
    "# add the binary labels to our anomaly dataframe"
   ]
  },
  {
   "cell_type": "code",
   "execution_count": 8,
   "id": "36cfd843-36af-424c-a341-4e2eeb4848d5",
   "metadata": {},
   "outputs": [
    {
     "data": {
      "text/plain": [
       "array([0, 0, 0, ..., 0, 0, 1])"
      ]
     },
     "execution_count": 8,
     "metadata": {},
     "output_type": "execute_result"
    }
   ],
   "source": [
    "y_test"
   ]
  },
  {
   "cell_type": "code",
   "execution_count": 9,
   "id": "cd1a2c4c-1485-44ff-92aa-704cb5b1a2a9",
   "metadata": {},
   "outputs": [
    {
     "data": {
      "text/plain": [
       "array([[1.2207218e-03, 3.9295829e-04, 9.1009197e-06, ..., 0.0000000e+00,\n",
       "        0.0000000e+00, 0.0000000e+00],\n",
       "       [7.8899825e-01, 1.3333332e-07, 4.5504598e-06, ..., 0.0000000e+00,\n",
       "        0.0000000e+00, 0.0000000e+00],\n",
       "       [8.2742047e-01, 7.9999995e-07, 0.0000000e+00, ..., 0.0000000e+00,\n",
       "        0.0000000e+00, 0.0000000e+00],\n",
       "       ...,\n",
       "       [1.2207218e-03, 8.1188965e-01, 2.7302760e-05, ..., 0.0000000e+00,\n",
       "        8.1166667e-01, 8.1166667e-01],\n",
       "       [8.0872816e-04, 8.4505824e-04, 4.5504598e-06, ..., 0.0000000e+00,\n",
       "        0.0000000e+00, 0.0000000e+00],\n",
       "       [1.2207218e-03, 1.2213415e-03, 9.1009197e-06, ..., 0.0000000e+00,\n",
       "        0.0000000e+00, 0.0000000e+00]], dtype=float32)"
      ]
     },
     "execution_count": 9,
     "metadata": {},
     "output_type": "execute_result"
    }
   ],
   "source": [
    "x_train"
   ]
  },
  {
   "cell_type": "code",
   "execution_count": 10,
   "id": "5f57803f-c9dd-4aef-96d6-6e8fe8d5aeed",
   "metadata": {},
   "outputs": [],
   "source": [
    "input_dim = x_train.shape[1]\n",
    "\n",
    "batch_size = 512\n",
    "latent_dim = 4 \n",
    "max_epochs = 100 "
   ]
  },
  {
   "cell_type": "code",
   "execution_count": 11,
   "id": "754ad679-2a93-4d12-be8a-050f92647f9d",
   "metadata": {},
   "outputs": [
    {
     "name": "stderr",
     "output_type": "stream",
     "text": [
      "2022-09-30 15:11:40.300839: I tensorflow/compiler/jit/xla_cpu_device.cc:41] Not creating XLA devices, tf_xla_enable_xla_devices not set\n",
      "2022-09-30 15:11:40.301430: I tensorflow/stream_executor/platform/default/dso_loader.cc:49] Successfully opened dynamic library libcuda.so.1\n",
      "2022-09-30 15:11:40.328424: I tensorflow/stream_executor/cuda/cuda_gpu_executor.cc:941] successful NUMA node read from SysFS had negative value (-1), but there must be at least one NUMA node, so returning NUMA node zero\n",
      "2022-09-30 15:11:40.328600: I tensorflow/core/common_runtime/gpu/gpu_device.cc:1720] Found device 0 with properties: \n",
      "pciBusID: 0000:25:00.0 name: NVIDIA GeForce GTX 1060 6GB computeCapability: 6.1\n",
      "coreClock: 1.7335GHz coreCount: 10 deviceMemorySize: 5.93GiB deviceMemoryBandwidth: 178.99GiB/s\n",
      "2022-09-30 15:11:40.328613: I tensorflow/stream_executor/platform/default/dso_loader.cc:49] Successfully opened dynamic library libcudart.so.10.1\n",
      "2022-09-30 15:11:40.329771: I tensorflow/stream_executor/platform/default/dso_loader.cc:49] Successfully opened dynamic library libcublas.so.10\n",
      "2022-09-30 15:11:40.329795: I tensorflow/stream_executor/platform/default/dso_loader.cc:49] Successfully opened dynamic library libcublasLt.so.10\n",
      "2022-09-30 15:11:40.330909: I tensorflow/stream_executor/platform/default/dso_loader.cc:49] Successfully opened dynamic library libcufft.so.10\n",
      "2022-09-30 15:11:40.331074: I tensorflow/stream_executor/platform/default/dso_loader.cc:49] Successfully opened dynamic library libcurand.so.10\n",
      "2022-09-30 15:11:40.332225: I tensorflow/stream_executor/platform/default/dso_loader.cc:49] Successfully opened dynamic library libcusolver.so.10\n",
      "2022-09-30 15:11:40.332775: I tensorflow/stream_executor/platform/default/dso_loader.cc:49] Successfully opened dynamic library libcusparse.so.10\n",
      "2022-09-30 15:11:40.335064: I tensorflow/stream_executor/platform/default/dso_loader.cc:49] Successfully opened dynamic library libcudnn.so.7\n",
      "2022-09-30 15:11:40.335194: I tensorflow/stream_executor/cuda/cuda_gpu_executor.cc:941] successful NUMA node read from SysFS had negative value (-1), but there must be at least one NUMA node, so returning NUMA node zero\n",
      "2022-09-30 15:11:40.335441: I tensorflow/stream_executor/cuda/cuda_gpu_executor.cc:941] successful NUMA node read from SysFS had negative value (-1), but there must be at least one NUMA node, so returning NUMA node zero\n",
      "2022-09-30 15:11:40.335548: I tensorflow/core/common_runtime/gpu/gpu_device.cc:1862] Adding visible gpu devices: 0\n",
      "2022-09-30 15:11:40.335840: I tensorflow/core/platform/cpu_feature_guard.cc:142] This TensorFlow binary is optimized with oneAPI Deep Neural Network Library (oneDNN) to use the following CPU instructions in performance-critical operations:  SSE4.1 SSE4.2 AVX AVX2 FMA\n",
      "To enable them in other operations, rebuild TensorFlow with the appropriate compiler flags.\n",
      "2022-09-30 15:11:40.336450: I tensorflow/compiler/jit/xla_gpu_device.cc:99] Not creating XLA devices, tf_xla_enable_xla_devices not set\n",
      "2022-09-30 15:11:40.336516: I tensorflow/stream_executor/cuda/cuda_gpu_executor.cc:941] successful NUMA node read from SysFS had negative value (-1), but there must be at least one NUMA node, so returning NUMA node zero\n",
      "2022-09-30 15:11:40.336637: I tensorflow/core/common_runtime/gpu/gpu_device.cc:1720] Found device 0 with properties: \n",
      "pciBusID: 0000:25:00.0 name: NVIDIA GeForce GTX 1060 6GB computeCapability: 6.1\n",
      "coreClock: 1.7335GHz coreCount: 10 deviceMemorySize: 5.93GiB deviceMemoryBandwidth: 178.99GiB/s\n",
      "2022-09-30 15:11:40.336648: I tensorflow/stream_executor/platform/default/dso_loader.cc:49] Successfully opened dynamic library libcudart.so.10.1\n",
      "2022-09-30 15:11:40.336660: I tensorflow/stream_executor/platform/default/dso_loader.cc:49] Successfully opened dynamic library libcublas.so.10\n",
      "2022-09-30 15:11:40.336669: I tensorflow/stream_executor/platform/default/dso_loader.cc:49] Successfully opened dynamic library libcublasLt.so.10\n",
      "2022-09-30 15:11:40.336676: I tensorflow/stream_executor/platform/default/dso_loader.cc:49] Successfully opened dynamic library libcufft.so.10\n",
      "2022-09-30 15:11:40.336684: I tensorflow/stream_executor/platform/default/dso_loader.cc:49] Successfully opened dynamic library libcurand.so.10\n",
      "2022-09-30 15:11:40.336692: I tensorflow/stream_executor/platform/default/dso_loader.cc:49] Successfully opened dynamic library libcusolver.so.10\n",
      "2022-09-30 15:11:40.336700: I tensorflow/stream_executor/platform/default/dso_loader.cc:49] Successfully opened dynamic library libcusparse.so.10\n",
      "2022-09-30 15:11:40.336707: I tensorflow/stream_executor/platform/default/dso_loader.cc:49] Successfully opened dynamic library libcudnn.so.7\n",
      "2022-09-30 15:11:40.336747: I tensorflow/stream_executor/cuda/cuda_gpu_executor.cc:941] successful NUMA node read from SysFS had negative value (-1), but there must be at least one NUMA node, so returning NUMA node zero\n",
      "2022-09-30 15:11:40.336889: I tensorflow/stream_executor/cuda/cuda_gpu_executor.cc:941] successful NUMA node read from SysFS had negative value (-1), but there must be at least one NUMA node, so returning NUMA node zero\n",
      "2022-09-30 15:11:40.336993: I tensorflow/core/common_runtime/gpu/gpu_device.cc:1862] Adding visible gpu devices: 0\n",
      "2022-09-30 15:11:40.337011: I tensorflow/stream_executor/platform/default/dso_loader.cc:49] Successfully opened dynamic library libcudart.so.10.1\n",
      "2022-09-30 15:11:40.698491: I tensorflow/core/common_runtime/gpu/gpu_device.cc:1261] Device interconnect StreamExecutor with strength 1 edge matrix:\n",
      "2022-09-30 15:11:40.698519: I tensorflow/core/common_runtime/gpu/gpu_device.cc:1267]      0 \n",
      "2022-09-30 15:11:40.698524: I tensorflow/core/common_runtime/gpu/gpu_device.cc:1280] 0:   N \n",
      "2022-09-30 15:11:40.698765: I tensorflow/stream_executor/cuda/cuda_gpu_executor.cc:941] successful NUMA node read from SysFS had negative value (-1), but there must be at least one NUMA node, so returning NUMA node zero\n",
      "2022-09-30 15:11:40.698938: I tensorflow/stream_executor/cuda/cuda_gpu_executor.cc:941] successful NUMA node read from SysFS had negative value (-1), but there must be at least one NUMA node, so returning NUMA node zero\n",
      "2022-09-30 15:11:40.699081: I tensorflow/stream_executor/cuda/cuda_gpu_executor.cc:941] successful NUMA node read from SysFS had negative value (-1), but there must be at least one NUMA node, so returning NUMA node zero\n",
      "2022-09-30 15:11:40.699204: I tensorflow/core/common_runtime/gpu/gpu_device.cc:1406] Created TensorFlow device (/job:localhost/replica:0/task:0/device:GPU:0 with 4025 MB memory) -> physical GPU (device: 0, name: NVIDIA GeForce GTX 1060 6GB, pci bus id: 0000:25:00.0, compute capability: 6.1)\n"
     ]
    }
   ],
   "source": [
    "input_data = Input(shape=(input_dim,), name='encoder_input')\n",
    "\n",
    "encoder = Dense(96,activation='tanh', name='encoder_1')(input_data)\n",
    "encoder = Dropout(.1)(encoder)\n",
    "encoder = Dense(64,activation='tanh', name='encoder_2')(encoder)\n",
    "encoder = Dropout(.1)(encoder)\n",
    "encoder = Dense(48,activation='tanh', name='encoder_3')(encoder)\n",
    "encoder = Dropout(.1)(encoder)\n",
    "encoder = Dense(16,activation='tanh', name='encoder_4')(encoder)\n",
    "encoder = Dropout(.1)(encoder)\n",
    "\n",
    "latent_encoding = Dense(latent_dim, activation='linear', name='latent_encoding')(encoder)\n",
    "\n",
    "encoder_model = Model(input_data, latent_encoding)\n"
   ]
  },
  {
   "cell_type": "code",
   "execution_count": 12,
   "id": "20b05b23-d8a5-4a28-8903-e6f60db509b0",
   "metadata": {},
   "outputs": [],
   "source": [
    "decoder = Dense(16, activation='tanh', name='decoder_1')(latent_encoding)\n",
    "decoder = Dropout(.1)(decoder)\n",
    "decoder = Dense(48, activation='tanh', name='decoder_2')(decoder)\n",
    "decoder = Dropout(.1)(decoder)\n",
    "decoder = Dense(64, activation='tanh', name='decoder_3')(decoder)\n",
    "decoder = Dropout(.1)(decoder)\n",
    "decoder = Dense(96, activation='tanh', name='decoder_4')(decoder)\n",
    "decoder = Dropout(.1)(decoder)\n",
    "\n",
    "reconstructed_data = Dense(input_dim, activation='linear', name='reconstructed_data')(decoder)"
   ]
  },
  {
   "cell_type": "code",
   "execution_count": 13,
   "id": "a1d2c2a9-2378-42f9-ab94-9d0b5c92b540",
   "metadata": {},
   "outputs": [],
   "source": [
    "autoencoder_model = Model(input_data, reconstructed_data)"
   ]
  },
  {
   "cell_type": "code",
   "execution_count": 14,
   "id": "223dbdb9-24f6-4d86-bd47-85b6e2440e19",
   "metadata": {},
   "outputs": [
    {
     "data": {
      "text/plain": [
       "35602"
      ]
     },
     "execution_count": 14,
     "metadata": {},
     "output_type": "execute_result"
    }
   ],
   "source": [
    "autoencoder_model.count_params()"
   ]
  },
  {
   "cell_type": "code",
   "execution_count": 15,
   "id": "18a640fe-9a81-4ec2-98fd-4dbf47d12ba5",
   "metadata": {},
   "outputs": [],
   "source": [
    "opt = optimizers.Adam(lr=.00001)\n",
    "\n",
    "autoencoder_model.compile(optimizer=opt, loss = 'mse', metrics=['accuracy'])"
   ]
  },
  {
   "cell_type": "code",
   "execution_count": 16,
   "id": "707099ac-ac97-454b-9ce4-2c95ea4718d2",
   "metadata": {},
   "outputs": [
    {
     "name": "stderr",
     "output_type": "stream",
     "text": [
      "2022-09-30 15:11:41.003801: W tensorflow/core/framework/cpu_allocator_impl.cc:80] Allocation of 661722984 exceeds 10% of free system memory.\n",
      "2022-09-30 15:11:42.151740: W tensorflow/core/framework/cpu_allocator_impl.cc:80] Allocation of 661722984 exceeds 10% of free system memory.\n",
      "2022-09-30 15:11:43.539372: I tensorflow/compiler/mlir/mlir_graph_optimization_pass.cc:116] None of the MLIR optimization passes are enabled (registered 2)\n",
      "2022-09-30 15:11:43.554895: I tensorflow/core/platform/profile_utils/cpu_utils.cc:112] CPU Frequency: 3601570000 Hz\n"
     ]
    },
    {
     "name": "stdout",
     "output_type": "stream",
     "text": [
      "Epoch 1/100\n",
      "  16/4143 [..............................] - ETA: 13s - loss: 0.0871 - accuracy: 0.0120  "
     ]
    },
    {
     "name": "stderr",
     "output_type": "stream",
     "text": [
      "2022-09-30 15:11:43.942970: I tensorflow/stream_executor/platform/default/dso_loader.cc:49] Successfully opened dynamic library libcublas.so.10\n"
     ]
    },
    {
     "name": "stdout",
     "output_type": "stream",
     "text": [
      "4132/4143 [============================>.] - ETA: 0s - loss: 0.0467 - accuracy: 0.0425"
     ]
    },
    {
     "name": "stderr",
     "output_type": "stream",
     "text": [
      "2022-09-30 15:11:53.729944: W tensorflow/core/framework/cpu_allocator_impl.cc:80] Allocation of 220574328 exceeds 10% of free system memory.\n",
      "2022-09-30 15:11:53.865105: W tensorflow/core/framework/cpu_allocator_impl.cc:80] Allocation of 220574328 exceeds 10% of free system memory.\n"
     ]
    },
    {
     "name": "stdout",
     "output_type": "stream",
     "text": [
      "4143/4143 [==============================] - 12s 3ms/step - loss: 0.0467 - accuracy: 0.0426 - val_loss: 0.0083 - val_accuracy: 5.6580e-06\n",
      "Epoch 2/100\n",
      "4143/4143 [==============================] - 11s 3ms/step - loss: 0.0126 - accuracy: 0.0926 - val_loss: 0.0054 - val_accuracy: 0.0724\n",
      "Epoch 3/100\n",
      "4143/4143 [==============================] - 11s 3ms/step - loss: 0.0082 - accuracy: 0.1687 - val_loss: 0.0047 - val_accuracy: 0.1064\n",
      "Epoch 4/100\n",
      "4143/4143 [==============================] - 11s 3ms/step - loss: 0.0069 - accuracy: 0.2042 - val_loss: 0.0046 - val_accuracy: 0.1127\n",
      "Epoch 5/100\n",
      "4143/4143 [==============================] - 11s 3ms/step - loss: 0.0064 - accuracy: 0.2204 - val_loss: 0.0046 - val_accuracy: 0.1212\n",
      "Epoch 6/100\n",
      "4143/4143 [==============================] - 11s 3ms/step - loss: 0.0061 - accuracy: 0.2298 - val_loss: 0.0046 - val_accuracy: 0.4607\n",
      "Epoch 7/100\n",
      "4143/4143 [==============================] - 12s 3ms/step - loss: 0.0060 - accuracy: 0.2356 - val_loss: 0.0045 - val_accuracy: 0.4672\n",
      "Epoch 8/100\n",
      "4143/4143 [==============================] - 11s 3ms/step - loss: 0.0059 - accuracy: 0.2396 - val_loss: 0.0045 - val_accuracy: 0.4656\n",
      "Epoch 9/100\n",
      "4143/4143 [==============================] - 11s 3ms/step - loss: 0.0058 - accuracy: 0.2428 - val_loss: 0.0045 - val_accuracy: 0.4674\n",
      "Epoch 10/100\n",
      "4143/4143 [==============================] - 12s 3ms/step - loss: 0.0058 - accuracy: 0.2459 - val_loss: 0.0045 - val_accuracy: 0.4722\n",
      "Epoch 11/100\n",
      "4143/4143 [==============================] - 11s 3ms/step - loss: 0.0057 - accuracy: 0.2485 - val_loss: 0.0045 - val_accuracy: 0.4674\n",
      "Epoch 12/100\n",
      "4143/4143 [==============================] - 11s 3ms/step - loss: 0.0057 - accuracy: 0.2524 - val_loss: 0.0044 - val_accuracy: 0.4806\n",
      "Epoch 13/100\n",
      "4143/4143 [==============================] - 12s 3ms/step - loss: 0.0057 - accuracy: 0.2565 - val_loss: 0.0044 - val_accuracy: 0.4764\n",
      "Epoch 14/100\n",
      "4143/4143 [==============================] - 12s 3ms/step - loss: 0.0056 - accuracy: 0.2621 - val_loss: 0.0044 - val_accuracy: 0.4790\n",
      "Epoch 15/100\n",
      "4143/4143 [==============================] - 11s 3ms/step - loss: 0.0056 - accuracy: 0.2685 - val_loss: 0.0044 - val_accuracy: 0.4713\n",
      "Epoch 16/100\n",
      "4143/4143 [==============================] - 11s 3ms/step - loss: 0.0056 - accuracy: 0.2728 - val_loss: 0.0044 - val_accuracy: 0.4762\n",
      "Epoch 17/100\n",
      "4143/4143 [==============================] - 11s 3ms/step - loss: 0.0056 - accuracy: 0.2775 - val_loss: 0.0044 - val_accuracy: 0.4801\n",
      "Epoch 18/100\n",
      "4143/4143 [==============================] - 11s 3ms/step - loss: 0.0055 - accuracy: 0.2820 - val_loss: 0.0044 - val_accuracy: 0.4793\n",
      "Epoch 19/100\n",
      "4143/4143 [==============================] - 11s 3ms/step - loss: 0.0055 - accuracy: 0.2855 - val_loss: 0.0044 - val_accuracy: 0.4776\n",
      "Epoch 20/100\n",
      "4143/4143 [==============================] - 11s 3ms/step - loss: 0.0055 - accuracy: 0.2895 - val_loss: 0.0044 - val_accuracy: 0.4813\n",
      "Epoch 21/100\n",
      "4143/4143 [==============================] - 11s 3ms/step - loss: 0.0055 - accuracy: 0.2934 - val_loss: 0.0044 - val_accuracy: 0.4795\n",
      "Epoch 22/100\n",
      "4143/4143 [==============================] - 11s 3ms/step - loss: 0.0055 - accuracy: 0.2969 - val_loss: 0.0044 - val_accuracy: 0.4805\n",
      "Epoch 23/100\n",
      "4143/4143 [==============================] - 11s 3ms/step - loss: 0.0055 - accuracy: 0.3031 - val_loss: 0.0044 - val_accuracy: 0.4811\n",
      "Epoch 24/100\n",
      "4143/4143 [==============================] - 11s 3ms/step - loss: 0.0055 - accuracy: 0.3095 - val_loss: 0.0044 - val_accuracy: 0.4819\n",
      "Epoch 25/100\n",
      "4143/4143 [==============================] - 11s 3ms/step - loss: 0.0055 - accuracy: 0.3182 - val_loss: 0.0044 - val_accuracy: 0.4817\n",
      "Epoch 26/100\n",
      "4143/4143 [==============================] - 11s 3ms/step - loss: 0.0055 - accuracy: 0.3282 - val_loss: 0.0044 - val_accuracy: 0.4825\n",
      "Epoch 27/100\n",
      "4143/4143 [==============================] - 11s 3ms/step - loss: 0.0055 - accuracy: 0.3423 - val_loss: 0.0044 - val_accuracy: 0.4828\n",
      "Epoch 28/100\n",
      "4143/4143 [==============================] - 11s 3ms/step - loss: 0.0054 - accuracy: 0.3590 - val_loss: 0.0044 - val_accuracy: 0.4821\n",
      "Epoch 29/100\n",
      "4143/4143 [==============================] - 11s 3ms/step - loss: 0.0054 - accuracy: 0.3800 - val_loss: 0.0044 - val_accuracy: 0.4823\n",
      "Epoch 30/100\n",
      "4143/4143 [==============================] - 11s 3ms/step - loss: 0.0054 - accuracy: 0.4034 - val_loss: 0.0044 - val_accuracy: 0.4829\n",
      "Epoch 31/100\n",
      "4143/4143 [==============================] - 11s 3ms/step - loss: 0.0054 - accuracy: 0.4256 - val_loss: 0.0044 - val_accuracy: 0.4839\n",
      "Epoch 32/100\n",
      "4143/4143 [==============================] - 11s 3ms/step - loss: 0.0054 - accuracy: 0.4416 - val_loss: 0.0044 - val_accuracy: 0.4830\n",
      "Epoch 33/100\n",
      "4143/4143 [==============================] - 11s 3ms/step - loss: 0.0054 - accuracy: 0.4499 - val_loss: 0.0044 - val_accuracy: 0.4842\n",
      "Epoch 34/100\n",
      "4143/4143 [==============================] - 12s 3ms/step - loss: 0.0054 - accuracy: 0.4529 - val_loss: 0.0044 - val_accuracy: 0.4853\n",
      "Epoch 35/100\n",
      "4143/4143 [==============================] - 35s 9ms/step - loss: 0.0054 - accuracy: 0.4573 - val_loss: 0.0043 - val_accuracy: 0.4877\n",
      "Epoch 36/100\n",
      "4143/4143 [==============================] - 12s 3ms/step - loss: 0.0054 - accuracy: 0.4797 - val_loss: 0.0043 - val_accuracy: 0.4943\n",
      "Epoch 37/100\n",
      "4143/4143 [==============================] - 11s 3ms/step - loss: 0.0053 - accuracy: 0.5150 - val_loss: 0.0041 - val_accuracy: 0.5158\n",
      "Epoch 38/100\n",
      "4143/4143 [==============================] - 12s 3ms/step - loss: 0.0051 - accuracy: 0.5342 - val_loss: 0.0036 - val_accuracy: 0.5235\n",
      "Epoch 39/100\n",
      "4143/4143 [==============================] - 11s 3ms/step - loss: 0.0048 - accuracy: 0.5318 - val_loss: 0.0033 - val_accuracy: 0.5289\n",
      "Epoch 40/100\n",
      "4143/4143 [==============================] - 12s 3ms/step - loss: 0.0046 - accuracy: 0.5280 - val_loss: 0.0031 - val_accuracy: 0.5254\n",
      "Epoch 41/100\n",
      "4143/4143 [==============================] - 11s 3ms/step - loss: 0.0045 - accuracy: 0.5276 - val_loss: 0.0030 - val_accuracy: 0.5216\n",
      "Epoch 42/100\n",
      "4143/4143 [==============================] - 12s 3ms/step - loss: 0.0044 - accuracy: 0.5273 - val_loss: 0.0029 - val_accuracy: 0.5129\n",
      "Epoch 43/100\n",
      "4143/4143 [==============================] - 12s 3ms/step - loss: 0.0042 - accuracy: 0.5292 - val_loss: 0.0027 - val_accuracy: 0.5393\n",
      "Epoch 44/100\n",
      "4143/4143 [==============================] - 11s 3ms/step - loss: 0.0041 - accuracy: 0.5327 - val_loss: 0.0025 - val_accuracy: 0.5535\n",
      "Epoch 45/100\n",
      "4143/4143 [==============================] - 11s 3ms/step - loss: 0.0039 - accuracy: 0.5355 - val_loss: 0.0024 - val_accuracy: 0.5580\n",
      "Epoch 46/100\n",
      "4143/4143 [==============================] - 11s 3ms/step - loss: 0.0038 - accuracy: 0.5381 - val_loss: 0.0023 - val_accuracy: 0.5866\n",
      "Epoch 47/100\n",
      "4143/4143 [==============================] - 11s 3ms/step - loss: 0.0037 - accuracy: 0.5432 - val_loss: 0.0022 - val_accuracy: 0.6025\n",
      "Epoch 48/100\n",
      "4143/4143 [==============================] - 11s 3ms/step - loss: 0.0036 - accuracy: 0.5475 - val_loss: 0.0020 - val_accuracy: 0.5999\n",
      "Epoch 49/100\n",
      "4143/4143 [==============================] - 11s 3ms/step - loss: 0.0035 - accuracy: 0.5522 - val_loss: 0.0019 - val_accuracy: 0.6060\n",
      "Epoch 50/100\n",
      "4143/4143 [==============================] - 11s 3ms/step - loss: 0.0034 - accuracy: 0.5570 - val_loss: 0.0019 - val_accuracy: 0.6364\n",
      "Epoch 51/100\n",
      "4143/4143 [==============================] - 11s 3ms/step - loss: 0.0033 - accuracy: 0.5622 - val_loss: 0.0018 - val_accuracy: 0.6477\n",
      "Epoch 52/100\n",
      "4143/4143 [==============================] - 11s 3ms/step - loss: 0.0032 - accuracy: 0.5658 - val_loss: 0.0017 - val_accuracy: 0.6630\n",
      "Epoch 53/100\n",
      "4143/4143 [==============================] - 11s 3ms/step - loss: 0.0031 - accuracy: 0.5696 - val_loss: 0.0017 - val_accuracy: 0.6608\n",
      "Epoch 54/100\n",
      "4143/4143 [==============================] - 11s 3ms/step - loss: 0.0030 - accuracy: 0.5726 - val_loss: 0.0016 - val_accuracy: 0.6157\n",
      "Epoch 55/100\n",
      "4143/4143 [==============================] - 11s 3ms/step - loss: 0.0029 - accuracy: 0.5751 - val_loss: 0.0016 - val_accuracy: 0.5957\n",
      "Epoch 56/100\n",
      "4143/4143 [==============================] - 11s 3ms/step - loss: 0.0028 - accuracy: 0.5763 - val_loss: 0.0015 - val_accuracy: 0.5826\n",
      "Epoch 57/100\n",
      "4143/4143 [==============================] - 11s 3ms/step - loss: 0.0028 - accuracy: 0.5786 - val_loss: 0.0015 - val_accuracy: 0.5776\n",
      "Epoch 58/100\n",
      "4143/4143 [==============================] - 11s 3ms/step - loss: 0.0027 - accuracy: 0.5799 - val_loss: 0.0014 - val_accuracy: 0.5865\n",
      "Epoch 59/100\n",
      "4143/4143 [==============================] - 11s 3ms/step - loss: 0.0027 - accuracy: 0.5809 - val_loss: 0.0014 - val_accuracy: 0.5814\n",
      "Epoch 60/100\n",
      "4143/4143 [==============================] - 11s 3ms/step - loss: 0.0026 - accuracy: 0.5823 - val_loss: 0.0014 - val_accuracy: 0.5823\n",
      "Epoch 61/100\n",
      "4143/4143 [==============================] - 11s 3ms/step - loss: 0.0026 - accuracy: 0.5834 - val_loss: 0.0014 - val_accuracy: 0.5794\n",
      "Epoch 62/100\n",
      "4143/4143 [==============================] - 11s 3ms/step - loss: 0.0025 - accuracy: 0.5850 - val_loss: 0.0013 - val_accuracy: 0.5840\n",
      "Epoch 63/100\n",
      "4143/4143 [==============================] - 11s 3ms/step - loss: 0.0025 - accuracy: 0.5869 - val_loss: 0.0013 - val_accuracy: 0.5841\n",
      "Epoch 64/100\n",
      "4143/4143 [==============================] - 11s 3ms/step - loss: 0.0024 - accuracy: 0.5881 - val_loss: 0.0013 - val_accuracy: 0.5755\n",
      "Epoch 65/100\n",
      "4143/4143 [==============================] - 11s 3ms/step - loss: 0.0024 - accuracy: 0.5901 - val_loss: 0.0013 - val_accuracy: 0.6033\n",
      "Epoch 66/100\n",
      "4143/4143 [==============================] - 11s 3ms/step - loss: 0.0024 - accuracy: 0.5904 - val_loss: 0.0012 - val_accuracy: 0.5941\n",
      "Epoch 67/100\n",
      "4143/4143 [==============================] - 11s 3ms/step - loss: 0.0023 - accuracy: 0.5926 - val_loss: 0.0012 - val_accuracy: 0.5949\n",
      "Epoch 68/100\n",
      "4143/4143 [==============================] - 11s 3ms/step - loss: 0.0023 - accuracy: 0.5930 - val_loss: 0.0012 - val_accuracy: 0.5996\n",
      "Epoch 69/100\n",
      "4143/4143 [==============================] - 11s 3ms/step - loss: 0.0023 - accuracy: 0.5935 - val_loss: 0.0012 - val_accuracy: 0.5927\n",
      "Epoch 70/100\n",
      "4143/4143 [==============================] - 11s 3ms/step - loss: 0.0023 - accuracy: 0.5945 - val_loss: 0.0012 - val_accuracy: 0.5950\n",
      "Epoch 71/100\n",
      "4143/4143 [==============================] - 11s 3ms/step - loss: 0.0022 - accuracy: 0.5960 - val_loss: 0.0012 - val_accuracy: 0.5928\n",
      "Epoch 72/100\n",
      "4143/4143 [==============================] - 11s 3ms/step - loss: 0.0022 - accuracy: 0.5958 - val_loss: 0.0011 - val_accuracy: 0.5675\n",
      "Epoch 73/100\n",
      "4143/4143 [==============================] - 11s 3ms/step - loss: 0.0022 - accuracy: 0.5970 - val_loss: 0.0011 - val_accuracy: 0.6094\n",
      "Epoch 74/100\n",
      "4143/4143 [==============================] - 11s 3ms/step - loss: 0.0022 - accuracy: 0.5977 - val_loss: 0.0011 - val_accuracy: 0.6174\n",
      "Epoch 75/100\n",
      "4143/4143 [==============================] - 11s 3ms/step - loss: 0.0021 - accuracy: 0.5986 - val_loss: 0.0011 - val_accuracy: 0.6049\n",
      "Epoch 76/100\n",
      "4143/4143 [==============================] - 11s 3ms/step - loss: 0.0021 - accuracy: 0.5988 - val_loss: 0.0011 - val_accuracy: 0.5920\n",
      "Epoch 77/100\n",
      "4143/4143 [==============================] - 11s 3ms/step - loss: 0.0021 - accuracy: 0.6004 - val_loss: 0.0011 - val_accuracy: 0.5964\n",
      "Epoch 78/100\n",
      "4143/4143 [==============================] - 11s 3ms/step - loss: 0.0021 - accuracy: 0.6006 - val_loss: 0.0011 - val_accuracy: 0.5543\n",
      "Epoch 79/100\n",
      "4143/4143 [==============================] - 11s 3ms/step - loss: 0.0021 - accuracy: 0.6006 - val_loss: 0.0011 - val_accuracy: 0.5608\n",
      "Epoch 80/100\n",
      "4143/4143 [==============================] - 11s 3ms/step - loss: 0.0020 - accuracy: 0.5997 - val_loss: 0.0011 - val_accuracy: 0.5519\n",
      "Epoch 81/100\n",
      "4143/4143 [==============================] - 11s 3ms/step - loss: 0.0020 - accuracy: 0.6015 - val_loss: 0.0011 - val_accuracy: 0.5619\n",
      "Epoch 82/100\n",
      "4143/4143 [==============================] - 11s 3ms/step - loss: 0.0020 - accuracy: 0.6013 - val_loss: 0.0011 - val_accuracy: 0.5450\n",
      "Epoch 83/100\n",
      "4143/4143 [==============================] - 11s 3ms/step - loss: 0.0020 - accuracy: 0.6013 - val_loss: 0.0010 - val_accuracy: 0.5496\n",
      "Epoch 84/100\n",
      "4143/4143 [==============================] - 11s 3ms/step - loss: 0.0020 - accuracy: 0.6016 - val_loss: 0.0010 - val_accuracy: 0.5585\n",
      "Epoch 85/100\n",
      "4143/4143 [==============================] - 11s 3ms/step - loss: 0.0020 - accuracy: 0.6023 - val_loss: 0.0010 - val_accuracy: 0.5525\n",
      "Epoch 86/100\n",
      "4143/4143 [==============================] - 12s 3ms/step - loss: 0.0019 - accuracy: 0.6028 - val_loss: 0.0010 - val_accuracy: 0.5456\n",
      "Epoch 87/100\n",
      "4143/4143 [==============================] - 11s 3ms/step - loss: 0.0019 - accuracy: 0.6041 - val_loss: 0.0010 - val_accuracy: 0.5373\n",
      "Epoch 88/100\n",
      "4143/4143 [==============================] - 12s 3ms/step - loss: 0.0019 - accuracy: 0.6048 - val_loss: 0.0010 - val_accuracy: 0.5488\n",
      "Epoch 89/100\n",
      "4143/4143 [==============================] - 11s 3ms/step - loss: 0.0019 - accuracy: 0.6050 - val_loss: 9.9782e-04 - val_accuracy: 0.5403\n",
      "Epoch 90/100\n",
      "4143/4143 [==============================] - 12s 3ms/step - loss: 0.0019 - accuracy: 0.6051 - val_loss: 9.9017e-04 - val_accuracy: 0.5447\n",
      "Epoch 91/100\n",
      "4143/4143 [==============================] - 12s 3ms/step - loss: 0.0019 - accuracy: 0.6062 - val_loss: 9.8177e-04 - val_accuracy: 0.5325\n",
      "Epoch 92/100\n",
      "4143/4143 [==============================] - 11s 3ms/step - loss: 0.0019 - accuracy: 0.6069 - val_loss: 9.7382e-04 - val_accuracy: 0.5420\n",
      "Epoch 93/100\n",
      "4143/4143 [==============================] - 11s 3ms/step - loss: 0.0019 - accuracy: 0.6078 - val_loss: 9.6902e-04 - val_accuracy: 0.5465\n",
      "Epoch 94/100\n",
      "4143/4143 [==============================] - 11s 3ms/step - loss: 0.0018 - accuracy: 0.6085 - val_loss: 9.5925e-04 - val_accuracy: 0.5327\n",
      "Epoch 95/100\n",
      "4143/4143 [==============================] - 11s 3ms/step - loss: 0.0018 - accuracy: 0.6106 - val_loss: 9.5135e-04 - val_accuracy: 0.5487\n",
      "Epoch 96/100\n",
      "4143/4143 [==============================] - 12s 3ms/step - loss: 0.0018 - accuracy: 0.6105 - val_loss: 9.4318e-04 - val_accuracy: 0.5349\n",
      "Epoch 97/100\n",
      "4143/4143 [==============================] - 12s 3ms/step - loss: 0.0018 - accuracy: 0.6112 - val_loss: 9.3431e-04 - val_accuracy: 0.5383\n",
      "Epoch 98/100\n",
      "4143/4143 [==============================] - 11s 3ms/step - loss: 0.0018 - accuracy: 0.6126 - val_loss: 9.2712e-04 - val_accuracy: 0.5639\n",
      "Epoch 99/100\n",
      "4143/4143 [==============================] - 11s 3ms/step - loss: 0.0018 - accuracy: 0.6139 - val_loss: 9.2033e-04 - val_accuracy: 0.5651\n",
      "Epoch 100/100\n",
      "4143/4143 [==============================] - 11s 3ms/step - loss: 0.0018 - accuracy: 0.6146 - val_loss: 9.1230e-04 - val_accuracy: 0.5732\n"
     ]
    }
   ],
   "source": [
    "logdir = os.path.join(\"logs\", datetime.datetime.now().strftime(\"%Y%m%d-%H%M%S\"))\n",
    "tensorboard_callback = tf.keras.callbacks.TensorBoard(logdir, profile_batch=0, update_freq='epoch', histogram_freq=1)\n",
    "\n",
    "train_history = autoencoder_model.fit(x_train, x_train,\n",
    "        shuffle=False,\n",
    "        epochs=max_epochs,\n",
    "        batch_size=batch_size,\n",
    "        validation_data=(x_test, x_test),\n",
    "        callbacks=[tensorboard_callback])"
   ]
  },
  {
   "cell_type": "code",
   "execution_count": 17,
   "id": "b6de8de6-4224-4e57-9c60-b43ecd563829",
   "metadata": {},
   "outputs": [
    {
     "data": {
      "image/png": "[encoded data removed]",
      "text/plain": [
       "<Figure size 432x288 with 1 Axes>"
      ]
     },
     "metadata": {
      "needs_background": "light"
     },
     "output_type": "display_data"
    }
   ],
   "source": [
    "helper_functions.plot_loss(train_history, figure_path + 'loss_autoencoder.png', 'Autoencoder')"
   ]
  },
  {
   "cell_type": "code",
   "execution_count": 18,
   "id": "82100844-ac35-4189-9423-6c6ec33cb290",
   "metadata": {},
   "outputs": [
    {
     "data": {
      "image/png": "[encoded data removed]",
      "text/plain": [
       "<Figure size 432x288 with 1 Axes>"
      ]
     },
     "metadata": {
      "needs_background": "light"
     },
     "output_type": "display_data"
    }
   ],
   "source": [
    "helper_functions.plot_accuracy(train_history, figure_path + 'accuracy_autoencoder.png', 'Autoencoder')"
   ]
  },
  {
   "cell_type": "code",
   "execution_count": 19,
   "id": "02fa81ac-2b35-4cb7-85b1-c15195e96ea8",
   "metadata": {},
   "outputs": [
    {
     "name": "stderr",
     "output_type": "stream",
     "text": [
      "2022-09-30 15:30:44.011784: W tensorflow/core/framework/cpu_allocator_impl.cc:80] Allocation of 220574328 exceeds 10% of free system memory.\n"
     ]
    }
   ],
   "source": [
    "x_test_recon = autoencoder_model.predict(x_test)\n",
    "reconstruction_scores = np.mean((x_test - x_test_recon)**2, axis=1)\n",
    "anomaly_data = pd.DataFrame({'recon_score':reconstruction_scores})"
   ]
  },
  {
   "cell_type": "code",
   "execution_count": 20,
   "id": "8a2a03d5-be2d-4242-bc5e-08e463b322e2",
   "metadata": {},
   "outputs": [
    {
     "data": {
      "text/plain": [
       "<AxesSubplot:ylabel='Frequency'>"
      ]
     },
     "execution_count": 20,
     "metadata": {},
     "output_type": "execute_result"
    },
    {
     "data": {
      "image/png": "[encoded data removed]",
      "text/plain": [
       "<Figure size 432x288 with 1 Axes>"
      ]
     },
     "metadata": {
      "needs_background": "light"
     },
     "output_type": "display_data"
    }
   ],
   "source": [
    "anomaly_data['recon_score'].plot.hist(bins=200, range=[-.01, .03])"
   ]
  },
  {
   "cell_type": "code",
   "execution_count": 21,
   "id": "167cf537-7284-4133-a6f4-36fe3a605809",
   "metadata": {},
   "outputs": [
    {
     "data": {
      "image/png": "[encoded data removed]",
      "text/plain": [
       "<Figure size 720x720 with 1 Axes>"
      ]
     },
     "metadata": {
      "needs_background": "light"
     },
     "output_type": "display_data"
    }
   ],
   "source": [
    "fpr, tpr, thresholds = roc_curve(y_test, reconstruction_scores)\n",
    "roc_auc = auc(fpr, tpr)\n",
    "\n",
    "helper_functions.plot_roc(tpr, fpr, roc_auc, figure_path + 'roc_autoencoder.png', 'Autoencoder')"
   ]
  },
  {
   "cell_type": "code",
   "execution_count": 22,
   "id": "a857b93e-29d3-4f86-a548-e87238dbd1f6",
   "metadata": {},
   "outputs": [
    {
     "name": "stdout",
     "output_type": "stream",
     "text": [
      "3.188081e-05\n"
     ]
    }
   ],
   "source": [
    "threshold_idx = np.argmax(tpr - fpr)\n",
    "threshold = thresholds[threshold_idx]\n",
    "print(threshold)"
   ]
  },
  {
   "cell_type": "code",
   "execution_count": 23,
   "id": "23d9e606-28f0-41c7-9e9e-515294f437c3",
   "metadata": {},
   "outputs": [
    {
     "name": "stdout",
     "output_type": "stream",
     "text": [
      "Accuracy Score : 0.5059910689153273\n",
      "Precision : 0.2850887433386174\n",
      "Recall : 0.9986727219244814\n",
      "F1 : 0.4435564690230942\n"
     ]
    }
   ],
   "source": [
    "pred_labels = (reconstruction_scores > threshold).astype(int)\n",
    "\n",
    "results = confusion_matrix(y_test, pred_labels) \n",
    "precision, recall, f1, _ = precision_recall_fscore_support(y_test, pred_labels, average='binary')\n",
    "print('Accuracy Score :', accuracy_score(y_test, pred_labels))\n",
    "print('Precision :', precision)\n",
    "print('Recall :', recall)\n",
    "print('F1 :', f1)"
   ]
  },
  {
   "cell_type": "code",
   "execution_count": 24,
   "id": "aba2a74b-5511-4388-af94-4ba5bff946b1",
   "metadata": {},
   "outputs": [
    {
     "data": {
      "image/png": "[encoded data removed]",
      "text/plain": [
       "<Figure size 432x288 with 2 Axes>"
      ]
     },
     "metadata": {
      "needs_background": "light"
     },
     "output_type": "display_data"
    }
   ],
   "source": [
    "helper_functions.plot_confusion_matrix(results, figure_path + 'confusion_autoencoder.png', 'Autoencoder')"
   ]
  },
  {
   "cell_type": "code",
   "execution_count": null,
   "id": "1eec7dd4-c23a-4180-9e90-fa2815fa7279",
   "metadata": {},
   "outputs": [],
   "source": []
  }
 ],
 "metadata": {
  "kernelspec": {
   "display_name": "AML2",
   "language": "python",
   "name": "aml2"
  },
  "language_info": {
   "codemirror_mode": {
    "name": "ipython",
    "version": 3
   },
   "file_extension": ".py",
   "mimetype": "text/x-python",
   "name": "python",
   "nbconvert_exporter": "python",
   "pygments_lexer": "ipython3",
   "version": "3.9.12"
  }
 },
 "nbformat": 4,
 "nbformat_minor": 5
}
